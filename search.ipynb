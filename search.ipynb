{
 "cells": [
  {
   "cell_type": "code",
   "execution_count": 7,
   "id": "52af3f89",
   "metadata": {},
   "outputs": [
    {
     "name": "stdout",
     "output_type": "stream",
     "text": [
      "Naive: Pattern 'ABABCABAB' in text -> [10]\n",
      "KMP: Pattern 'ABABCABAB' in text -> [10]\n",
      "✅ Saved GIF: kmp_animation.gif\n"
     ]
    },
    {
     "data": {
      "text/html": [
       "### kmp_animation"
      ],
      "text/plain": [
       "<IPython.core.display.HTML object>"
      ]
     },
     "metadata": {},
     "output_type": "display_data"
    },
    {
     "data": {
      "text/html": [
       "<img src=\"kmp_animation.gif\" alt=\"kmp_animation\">"
      ],
      "text/plain": [
       "<IPython.core.display.HTML object>"
      ]
     },
     "metadata": {},
     "output_type": "display_data"
    },
    {
     "name": "stdout",
     "output_type": "stream",
     "text": [
      "Rabin-Karp: Pattern 'ABABCABAB' in text -> [10] (mod=101)\n",
      "✅ Saved GIF: rabin_karp_animation.gif\n"
     ]
    },
    {
     "data": {
      "text/html": [
       "### rabin_karp_animation"
      ],
      "text/plain": [
       "<IPython.core.display.HTML object>"
      ]
     },
     "metadata": {},
     "output_type": "display_data"
    },
    {
     "data": {
      "text/html": [
       "<img src=\"rabin_karp_animation.gif\" alt=\"rabin_karp_animation\">"
      ],
      "text/plain": [
       "<IPython.core.display.HTML object>"
      ]
     },
     "metadata": {},
     "output_type": "display_data"
    },
    {
     "data": {
      "image/png": "[encoded data removed]",
      "text/plain": [
       "<Figure size 600x250 with 1 Axes>"
      ]
     },
     "metadata": {},
     "output_type": "display_data"
    },
    {
     "data": {
      "image/png": "[encoded data removed]",
      "text/plain": [
       "<Figure size 600x350 with 1 Axes>"
      ]
     },
     "metadata": {},
     "output_type": "display_data"
    }
   ],
   "source": [
    "import time\n",
    "import matplotlib.pyplot as plt\n",
    "from matplotlib.animation import FuncAnimation\n",
    "from IPython.display import HTML, display\n",
    "\n",
    "# ------------------ Naive Search ------------------\n",
    "def naive_search(pat, txt):\n",
    "    n, m = len(txt), len(pat)\n",
    "    occurrences = []\n",
    "    for i in range(n - m + 1):\n",
    "        if txt[i:i + m] == pat:\n",
    "            occurrences.append(i)\n",
    "    print(f\"Naive: Pattern '{pat}' in text -> {occurrences if occurrences else 'None'}\")\n",
    "    return occurrences\n",
    "\n",
    "# ------------------ KMP Helpers and Animated Search ------------------\n",
    "def compute_lps(pattern):\n",
    "    m = len(pattern)\n",
    "    lps = [0] * m\n",
    "    length = 0\n",
    "    i = 1\n",
    "    while i < m:\n",
    "        if pattern[i] == pattern[length]:\n",
    "            length += 1\n",
    "            lps[i] = length\n",
    "            i += 1\n",
    "        else:\n",
    "            if length != 0:\n",
    "                length = lps[length - 1]\n",
    "            else:\n",
    "                lps[i] = 0\n",
    "                i += 1\n",
    "    return lps\n",
    "\n",
    "def kmp_search_anim(pat, txt, interval=250):\n",
    "    n, m = len(txt), len(pat)\n",
    "    lps = compute_lps(pat)\n",
    "    occurrences = []\n",
    "    step_data = []\n",
    "    i, j = 0, 0\n",
    "    while i < n:\n",
    "        step_data.append((i, j, occurrences.copy(), \"Compare\"))\n",
    "        if pat[j] == txt[i]:\n",
    "            i += 1\n",
    "            j += 1\n",
    "            if j == m:\n",
    "                occurrences.append(i - j)\n",
    "                step_data.append((i, j, occurrences.copy(), \"Match Found\"))\n",
    "                j = lps[j - 1]\n",
    "        else:\n",
    "            if j != 0:\n",
    "                j = lps[j - 1]\n",
    "                step_data.append((i, j, occurrences.copy(), \"Fallback\"))\n",
    "            else:\n",
    "                i += 1\n",
    "                step_data.append((i, j, occurrences.copy(), \"Advance\"))\n",
    "\n",
    "    print(f\"KMP: Pattern '{pat}' in text -> {occurrences if occurrences else 'None'}\")\n",
    "\n",
    "    # Visualization setup\n",
    "    fig, ax = plt.subplots(figsize=(max(6, n * 0.25), 2.5))\n",
    "    ax.set_xlim(-0.5, n - 0.5)\n",
    "    ax.set_ylim(-2, 3)\n",
    "    ax.axis(\"off\")\n",
    "\n",
    "    # Text row\n",
    "    for idx, ch in enumerate(txt):\n",
    "        rect = plt.Rectangle((idx - 0.4, 0.5), 0.8, 0.8, fill=False)\n",
    "        ax.add_patch(rect)\n",
    "        ax.text(idx, 0.9, ch, ha=\"center\", va=\"center\", fontsize=12)\n",
    "\n",
    "    # Pattern row\n",
    "    pattern_boxes = [plt.Rectangle((i - 0.4, -0.5), 0.8, 0.8, fill=False) for i in range(m)]\n",
    "    for rect in pattern_boxes:\n",
    "        ax.add_patch(rect)\n",
    "    pattern_texts = [ax.text(i, -0.1, pat[i], ha=\"center\", va=\"center\", fontsize=12) for i in range(m)]\n",
    "    status = ax.text(0, 2.0, \"\", ha=\"left\", va=\"center\", fontsize=9)\n",
    "    lps_display = ax.text(0, 2.4, f\"LPS: {lps}\", ha=\"left\", va=\"center\", fontsize=8)\n",
    "\n",
    "    def update(frame):\n",
    "        i, j, occ, action = frame\n",
    "        alignment_shift = i - j\n",
    "        for idx in range(m):\n",
    "            pattern_boxes[idx].set_xy((idx + alignment_shift - 0.4, -0.5))\n",
    "            pattern_texts[idx].set_x(idx + alignment_shift)\n",
    "            pattern_boxes[idx].set_edgecolor(\"black\")\n",
    "        # cleanup previous overlays\n",
    "        for patch in [p for p in ax.patches if getattr(p, \"custom_occ\", False)]:\n",
    "            patch.remove()\n",
    "        # highlight found occurrences\n",
    "        for oc in occ:\n",
    "            for k in range(m):\n",
    "                overlay = plt.Rectangle((oc + k - 0.4, 0.5), 0.8, 0.8, fill=True, alpha=0.25)\n",
    "                overlay.custom_occ = True\n",
    "                ax.add_patch(overlay)\n",
    "        # current comparison\n",
    "        if 0 <= i - 1 < len(txt) and 0 <= j - 1 < m:\n",
    "            pattern_boxes[j - 1].set_edgecolor(\"red\")\n",
    "            rect = plt.Rectangle((i - 1 - 0.4, 0.5), 0.8, 0.8, fill=False, edgecolor=\"red\", linewidth=2)\n",
    "            rect.custom_occ = True\n",
    "            ax.add_patch(rect)\n",
    "        status.set_text(f\"KMP: i={i}, j={j}, Action={action}, Matches={occ}\")\n",
    "        return pattern_boxes + pattern_texts + [status, lps_display]\n",
    "\n",
    "    anim = FuncAnimation(fig, update, frames=step_data, interval=interval, blit=False, repeat=False)\n",
    "    return anim, occurrences\n",
    "\n",
    "# ------------------ Rabin-Karp Animated Search ------------------\n",
    "def rabin_karp_search_anim(pat, txt, base=256, mod=101, interval=300):\n",
    "    n, m = len(txt), len(pat)\n",
    "    if m > n:\n",
    "        print(\"Rabin-Karp: pattern longer than text, no matches.\")\n",
    "        return None, []\n",
    "    h = pow(base, m - 1, mod)\n",
    "    pat_hash = 0\n",
    "    window_hash = 0\n",
    "    occurrences = []\n",
    "    step_data = []\n",
    "\n",
    "    for i in range(m):\n",
    "        pat_hash = (base * pat_hash + ord(pat[i])) % mod\n",
    "        window_hash = (base * window_hash + ord(txt[i])) % mod\n",
    "    step_data.append((0, window_hash, pat_hash, occurrences.copy(), \"Initial\"))\n",
    "\n",
    "    for i in range(n - m + 1):\n",
    "        if i > 0:\n",
    "            window_hash = (window_hash - ord(txt[i - 1]) * h) % mod\n",
    "            window_hash = (window_hash * base + ord(txt[i + m - 1])) % mod\n",
    "            window_hash = (window_hash + mod) % mod\n",
    "            step_data.append((i, window_hash, pat_hash, occurrences.copy(), \"Roll\"))\n",
    "\n",
    "        if window_hash == pat_hash:\n",
    "            if txt[i:i + m] == pat:\n",
    "                occurrences.append(i)\n",
    "                step_data.append((i, window_hash, pat_hash, occurrences.copy(), \"Match Verified\"))\n",
    "            else:\n",
    "                step_data.append((i, window_hash, pat_hash, occurrences.copy(), \"Spurious Hit\"))\n",
    "        else:\n",
    "            step_data.append((i, window_hash, pat_hash, occurrences.copy(), \"No Match\"))\n",
    "\n",
    "    print(f\"Rabin-Karp: Pattern '{pat}' in text -> {occurrences if occurrences else 'None'} (mod={mod})\")\n",
    "\n",
    "    fig, ax = plt.subplots(figsize=(max(6, n * 0.25), 3.5))\n",
    "    ax.set_xlim(-0.5, n - 0.5)\n",
    "    ax.set_ylim(-2.5, 4)\n",
    "    ax.axis(\"off\")\n",
    "    for idx, ch in enumerate(txt):\n",
    "        rect = plt.Rectangle((idx - 0.4, 0.5), 0.8, 0.8, fill=False)\n",
    "        ax.add_patch(rect)\n",
    "        ax.text(idx, 0.9, ch, ha=\"center\", va=\"center\", fontsize=12)\n",
    "\n",
    "    status = ax.text(0, 3.5, \"\", ha=\"left\", va=\"center\", fontsize=9)\n",
    "    hash_info = ax.text(0, 3.0, \"\", ha=\"left\", va=\"center\", fontsize=9)\n",
    "    window_info = ax.text(0, 2.5, \"\", ha=\"left\", va=\"center\", fontsize=9)\n",
    "\n",
    "    def update(frame):\n",
    "        i, w_hash, p_hash, occ, action = frame\n",
    "        for patch in [p for p in ax.patches if getattr(p, \"custom_occ\", False)]:\n",
    "            patch.remove()\n",
    "        for k in range(m):\n",
    "            win_rect = plt.Rectangle((i + k - 0.4, 0.5), 0.8, 0.8, fill=True, alpha=0.15)\n",
    "            win_rect.custom_occ = True\n",
    "            ax.add_patch(win_rect)\n",
    "        for oc in occ:\n",
    "            for k in range(m):\n",
    "                overlay = plt.Rectangle((oc + k - 0.4, 0.5), 0.8, 0.8, fill=True, alpha=0.3, edgecolor=\"green\")\n",
    "                overlay.custom_occ = True\n",
    "                ax.add_patch(overlay)\n",
    "        status.set_text(f\"RK: pos={i}, Action={action}, Matches={occ}\")\n",
    "        hash_info.set_text(f\"Window Hash={w_hash} | Pattern Hash={p_hash}\")\n",
    "        window_info.set_text(f\"Window Text: '{txt[i:i+m]}'\")\n",
    "        return [status, hash_info, window_info]\n",
    "\n",
    "    anim = FuncAnimation(fig, update, frames=step_data, interval=interval, blit=False, repeat=False)\n",
    "    return anim, occurrences\n",
    "\n",
    "# ------------------ Save GIF Only ------------------\n",
    "def save_gif_only(anim, name_prefix):\n",
    "    if anim is None:\n",
    "        print(f\"No animation for {name_prefix}\")\n",
    "        return\n",
    "    gif_path = f\"{name_prefix}.gif\"\n",
    "    try:\n",
    "        anim.save(gif_path, writer=\"pillow\")\n",
    "        print(f\"✅ Saved GIF: {gif_path}\")\n",
    "    except Exception as e:\n",
    "        print(f\"❌ GIF save failed: {e}\")\n",
    "    display(HTML(f\"### {name_prefix}\")) \n",
    "    display(HTML(f'<img src=\"{gif_path}\" alt=\"{name_prefix}\">'))\n",
    "\n",
    "# ------------------ Example Execution ------------------\n",
    "text = \"ABABDABACDABABCABAB\"\n",
    "pattern = \"ABABCABAB\"\n",
    "\n",
    "# 1. Naive (no animation)\n",
    "naive_search(pattern, text)\n",
    "\n",
    "# 2. KMP animation + GIF export\n",
    "kmp_anim, kmp_occ = kmp_search_anim(pattern, text)\n",
    "save_gif_only(kmp_anim, \"kmp_animation\")\n",
    "\n",
    "# 3. Rabin-Karp animation + GIF export\n",
    "rk_anim, rk_occ = rabin_karp_search_anim(pattern, text)\n",
    "save_gif_only(rk_anim, \"rabin_karp_animation\")\n"
   ]
  }
 ],
 "metadata": {
  "kernelspec": {
   "display_name": "Python 3",
   "language": "python",
   "name": "python3"
  },
  "language_info": {
   "codemirror_mode": {
    "name": "ipython",
    "version": 3
   },
   "file_extension": ".py",
   "mimetype": "text/x-python",
   "name": "python",
   "nbconvert_exporter": "python",
   "pygments_lexer": "ipython3",
   "version": "3.12.8"
  }
 },
 "nbformat": 4,
 "nbformat_minor": 5
}
